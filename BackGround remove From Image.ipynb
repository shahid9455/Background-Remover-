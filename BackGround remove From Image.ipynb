{
 "cells": [
  {
   "cell_type": "code",
   "execution_count": 1,
   "id": "4d884b6c",
   "metadata": {},
   "outputs": [
    {
     "name": "stderr",
     "output_type": "stream",
     "text": [
      "C:\\Users\\Muhammad Shahid\\anaconda3\\Lib\\site-packages\\paramiko\\transport.py:219: CryptographyDeprecationWarning: Blowfish has been deprecated\n",
      "  \"class\": algorithms.Blowfish,\n"
     ]
    }
   ],
   "source": [
    "from rembg import remove\n",
    "from PIL import Image"
   ]
  },
  {
   "cell_type": "code",
   "execution_count": 2,
   "id": "1a89bf79",
   "metadata": {},
   "outputs": [],
   "source": [
    "input_img = \"neee.jpg\"\n",
    "opt = \"new.png\""
   ]
  },
  {
   "cell_type": "code",
   "execution_count": 3,
   "id": "c7638908",
   "metadata": {},
   "outputs": [],
   "source": [
    "bg_remove = Image.open(input_img)\n",
    "no_bg = remove(bg_remove)"
   ]
  },
  {
   "cell_type": "code",
   "execution_count": 4,
   "id": "f1ca836c-23dc-4520-81e9-401f9b26f42e",
   "metadata": {},
   "outputs": [],
   "source": [
    "resized_img = no_bg.resize((1000, 1000))"
   ]
  },
  {
   "cell_type": "code",
   "execution_count": 5,
   "id": "bf75dad7",
   "metadata": {},
   "outputs": [],
   "source": [
    "resized_img.save(opt)"
   ]
  },
  {
   "cell_type": "code",
   "execution_count": 6,
   "id": "52ba41f8",
   "metadata": {},
   "outputs": [],
   "source": [
    "resized_img.show(opt)"
   ]
  }
 ],
 "metadata": {
  "kernelspec": {
   "display_name": "Python 3 (ipykernel)",
   "language": "python",
   "name": "python3"
  },
  "language_info": {
   "codemirror_mode": {
    "name": "ipython",
    "version": 3
   },
   "file_extension": ".py",
   "mimetype": "text/x-python",
   "name": "python",
   "nbconvert_exporter": "python",
   "pygments_lexer": "ipython3",
   "version": "3.11.5"
  }
 },
 "nbformat": 4,
 "nbformat_minor": 5
}
